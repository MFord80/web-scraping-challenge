{
 "cells": [
  {
   "cell_type": "code",
   "execution_count": 33,
   "metadata": {},
   "outputs": [],
   "source": [
    "# Dependencies\n",
    "from splinter import Browser\n",
    "from bs4 import BeautifulSoup as bs\n",
    "import time\n",
    "from webdriver_manager.chrome import ChromeDriverManager"
   ]
  },
  {
   "cell_type": "code",
   "execution_count": 34,
   "metadata": {},
   "outputs": [],
   "source": [
    "# Splinter set up\n",
    "executable_path = {'executable_path': ChromeDriverManager().install()}\n",
    "browser = Browser('chrome', **executable_path, headless=False)"
   ]
  },
  {
   "cell_type": "code",
   "execution_count": 35,
   "metadata": {},
   "outputs": [],
   "source": [
    "# Website path\n",
    "url = 'https://redplanetscience.com/'\n",
    "browser.visit(url)"
   ]
  },
  {
   "cell_type": "code",
   "execution_count": 36,
   "metadata": {},
   "outputs": [],
   "source": [
    "# Create Beautiful Soup object\n",
    "html = browser.html\n",
    "soup = bs(html, 'html.parser')"
   ]
  },
  {
   "cell_type": "code",
   "execution_count": 37,
   "metadata": {},
   "outputs": [
    {
     "name": "stdout",
     "output_type": "stream",
     "text": [
      "Page 1 complete\n",
      "----------------------------\n",
      "There are no remaining pages\n"
     ]
    }
   ],
   "source": [
    "# Empty data list\n",
    "redplanet_data = []\n",
    "\n",
    "# Use Splinter to scroll through the first 20 pages of the website\n",
    "for page in range(1, 21):\n",
    "\n",
    "    # Scrape website for title and preview\n",
    "    results = soup.find_all('div', class_='list_text')\n",
    "\n",
    "    for result in results:\n",
    "        title = result.find('div', class_='content_title').text\n",
    "        preview = result.find('div', class_='article_teaser_body').text\n",
    "\n",
    "    # Create dictionaries and append to data list\n",
    "        title_preview = {'title': title, 'preview': preview}\n",
    "        redplanet_data.append(title_preview)\n",
    "\n",
    "    # Use Splinter to click 'More' button through all pages\n",
    "    print('Page', page, 'complete')\n",
    "    try:\n",
    "        browser.links.find_by_id(\"more\").click()\n",
    "    except:\n",
    "        print('----------------------------')\n",
    "        print('There are no remaining pages')\n",
    "        break\n",
    "        \n",
    "\n",
    "\n"
   ]
  },
  {
   "cell_type": "code",
   "execution_count": 38,
   "metadata": {},
   "outputs": [
    {
     "name": "stdout",
     "output_type": "stream",
     "text": [
      "[{'title': \"NASA's Curiosity Rover Finds an Ancient Oasis on Mars\", 'preview': \"New evidence suggests salty, shallow ponds once dotted a Martian crater — a sign of the planet's drying climate.\"}, {'title': \"InSight's 'Mole' Team Peers into the Pit\", 'preview': 'Efforts to save the heat probe continue.'}, {'title': 'Mars 2020 Stands on Its Own Six Wheels', 'preview': \"In time-lapse video, taken at JPL, captures the first time NASA's Mars 2020 rover carries its full weight on its legs and wheels.\"}, {'title': \"A Martian Roundtrip: NASA's Perseverance Rover Sample Tubes\", 'preview': \"Marvels of engineering, the rover's sample tubes must be tough enough to safely bring Red Planet samples on the long journey back to Earth in immaculate condition. \"}, {'title': \"Media Get a Close-Up of NASA's Mars 2020 Rover\", 'preview': \"The clean room at NASA's Jet Propulsion Laboratory was open to the media to see NASA's next Mars explorer before it leaves for Florida in preparation for a summertime launch.\"}, {'title': 'Independent Review Indicates NASA Prepared for Mars Sample Return Campaign', 'preview': 'NASA released an independent review report Tuesday indicating the agency is well positioned for its Mars Sample Return campaign to bring pristine samples from Mars to Earth for scientific study.'}, {'title': 'Two Rovers to Roll on Mars Again: Curiosity and Mars 2020', 'preview': 'They look like twins. But under the hood, the rover currently exploring the Red Planet and the one launching there this summer have distinct science tools and roles to play.'}, {'title': \"NASA's Perseverance Mars Rover Gets Balanced\", 'preview': \"The mission team performed a crucial weight-balancing test on the rover in preparation for this summer's history-making launch to the Red Planet.\"}, {'title': 'NASA Mars Mission Connects With Bosnian and Herzegovinian Town', 'preview': 'A letter from NASA was presented to the mayor of Jezero, Bosnia-Herzegovina, honoring the connection between the town and Jezero Crater, the Mars 2020 rover landing site.'}, {'title': 'Naming a NASA Mars Rover Can Change Your Life', 'preview': 'Want to name the robotic scientist NASA is sending to Mars in 2020? The student who named Curiosity — the rover currently exploring Mars — will tell you this is an opportunity worth taking.'}, {'title': \"NASA's Curiosity Mars Rover Takes a New Selfie Before Record Climb\", 'preview': 'Along with capturing an image before its steepest ascent ever, the robotic explorer filmed its \"selfie stick,\" or robotic arm, in action.'}, {'title': \"NASA's Treasure Map for Water Ice on Mars\", 'preview': 'A new study identifies frozen water just below the Martian surface, where astronauts could easily dig it up.'}, {'title': \"NASA's Mars 2020 Rover Closer to Getting Its Name\", 'preview': \"155 students from across the U.S. have been chosen as semifinalists in NASA's essay contest to name the Mars 2020 rover, and see it launch from Cape Canaveral this July.\"}, {'title': 'MOXIE Could Help Future Rockets Launch Off Mars', 'preview': \"NASA's Perseverance rover carries a device to convert Martian air into oxygen that, if produced on a larger scale, could be used not just for breathing, but also for fuel.\"}, {'title': 'NASA Prepares for Moon and Mars With New Addition to Its Deep Space Network', 'preview': 'Robotic spacecraft will be able to communicate with the dish using radio waves and lasers.'}]\n"
     ]
    }
   ],
   "source": [
    "# Print list of dictionaries\n",
    "print(redplanet_data)"
   ]
  },
  {
   "cell_type": "code",
   "execution_count": 39,
   "metadata": {},
   "outputs": [],
   "source": [
    "# BONUS - Export data to PymongoDB\n",
    "# Dependencies\n",
    "import pymongo\n",
    "\n",
    "# Connect to MongoDB\n",
    "conn = 'mongodb://localhost:27017'\n",
    "client = pymongo.MongoClient(conn)\n",
    "\n",
    "# Create MongoDB database\n",
    "db = client.mars_db\n",
    "redplanet = db.redplanet\n",
    "\n",
    "# Export each dictionary to collection\n",
    "for dictionary in redplanet_data:\n",
    "    redplanet.insert_one(dictionary)"
   ]
  }
 ],
 "metadata": {
  "kernelspec": {
   "display_name": "Python 3.7.7 ('PythonData')",
   "language": "python",
   "name": "python3"
  },
  "language_info": {
   "codemirror_mode": {
    "name": "ipython",
    "version": 3
   },
   "file_extension": ".py",
   "mimetype": "text/x-python",
   "name": "python",
   "nbconvert_exporter": "python",
   "pygments_lexer": "ipython3",
   "version": "3.7.7"
  },
  "orig_nbformat": 4,
  "vscode": {
   "interpreter": {
    "hash": "5ab4271f17fb678f92d8863922ba38472c07151a138a8513aae8a62841bcc2ec"
   }
  }
 },
 "nbformat": 4,
 "nbformat_minor": 2
}
