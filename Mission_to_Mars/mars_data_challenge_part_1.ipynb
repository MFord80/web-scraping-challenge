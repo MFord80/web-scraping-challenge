{
 "cells": [
  {
   "cell_type": "code",
   "execution_count": null,
   "metadata": {},
   "outputs": [],
   "source": [
    "# Dependencies\n",
    "from splinter import Browser\n",
    "from bs4 import BeautifulSoup as bs\n",
    "import time\n",
    "from webdriver_manager.chrome import ChromeDriverManager"
   ]
  },
  {
   "cell_type": "code",
   "execution_count": null,
   "metadata": {},
   "outputs": [],
   "source": [
    "# Splinter set up\n",
    "executable_path = {'executable_path': ChromeDriverManager().install()}\n",
    "browser = Browser('chrome', **executable_path, headless=False)"
   ]
  },
  {
   "cell_type": "code",
   "execution_count": null,
   "metadata": {},
   "outputs": [],
   "source": [
    "# Website path\n",
    "url = 'https://redplanetscience.com/'\n",
    "browser.visit(url)"
   ]
  },
  {
   "cell_type": "code",
   "execution_count": null,
   "metadata": {},
   "outputs": [],
   "source": [
    "# Create Beautiful Soup object\n",
    "html = browser.html\n",
    "soup = bs(html, 'html.parser')"
   ]
  },
  {
   "cell_type": "code",
   "execution_count": null,
   "metadata": {},
   "outputs": [],
   "source": [
    "# Empty data list\n",
    "redplanet_data = []\n",
    "\n",
    "# Use Splinter to scroll through the first 20 pages of the website\n",
    "for page in range(1, 21):\n",
    "\n",
    "    # Scrape website for title and preview\n",
    "    results = soup.find_all('div', class_='list_text')\n",
    "\n",
    "    for result in results:\n",
    "        title = result.find('div', class_='content_title').text\n",
    "        preview = result.find('div', class_='article_teaser_body').text\n",
    "\n",
    "    # Create dictionaries and append to data list\n",
    "        title_preview = {'title': title, 'preview': preview}\n",
    "        redplanet_data.append(title_preview)\n",
    "\n",
    "    # Use Splinter to click 'More' button through all pages\n",
    "    print('Page', page, 'complete')\n",
    "    try:\n",
    "        browser.links.find_by_id(\"more\").click()\n",
    "        time.sleep(10)\n",
    "    except:\n",
    "        print('----------------------------')\n",
    "        print('There are no remaining pages')\n",
    "        break"
   ]
  },
  {
   "cell_type": "code",
   "execution_count": null,
   "metadata": {},
   "outputs": [],
   "source": [
    "# Print list of dictionaries\n",
    "print(redplanet_data)"
   ]
  },
  {
   "cell_type": "code",
   "execution_count": null,
   "metadata": {},
   "outputs": [],
   "source": [
    "# BONUS - Export data to PymongoDB\n",
    "# Dependencies\n",
    "import pymongo\n",
    "\n",
    "# Connect to MongoDB\n",
    "conn = 'mongodb://localhost:27017'\n",
    "client = pymongo.MongoClient(conn)\n",
    "\n",
    "# Create MongoDB database\n",
    "db = client.mars_db\n",
    "redplanet = db.redplanet\n",
    "\n",
    "# Export each dictionary to collection\n",
    "for dictionary in redplanet_data:\n",
    "    redplanet.insert_one(dictionary)"
   ]
  }
 ],
 "metadata": {
  "kernelspec": {
   "display_name": "Python 3.7.7 ('PythonData')",
   "language": "python",
   "name": "python3"
  },
  "language_info": {
   "codemirror_mode": {
    "name": "ipython",
    "version": 3
   },
   "file_extension": ".py",
   "mimetype": "text/x-python",
   "name": "python",
   "nbconvert_exporter": "python",
   "pygments_lexer": "ipython3",
   "version": "3.7.7"
  },
  "orig_nbformat": 4,
  "vscode": {
   "interpreter": {
    "hash": "5ab4271f17fb678f92d8863922ba38472c07151a138a8513aae8a62841bcc2ec"
   }
  }
 },
 "nbformat": 4,
 "nbformat_minor": 2
}
