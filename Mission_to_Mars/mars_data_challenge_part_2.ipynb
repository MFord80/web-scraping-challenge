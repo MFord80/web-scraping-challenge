{
 "cells": [
  {
   "cell_type": "code",
   "execution_count": 177,
   "metadata": {},
   "outputs": [],
   "source": [
    "# Dependencies\n",
    "from splinter import Browser\n",
    "from bs4 import BeautifulSoup as bs\n",
    "import time\n",
    "from webdriver_manager.chrome import ChromeDriverManager\n",
    "import pandas as pd\n",
    "from datetime import datetime\n",
    "import matplotlib\n",
    "import matplotlib.pyplot as plt\n",
    "import numpy as np"
   ]
  },
  {
   "cell_type": "code",
   "execution_count": 178,
   "metadata": {},
   "outputs": [],
   "source": [
    "# Splinter set up\n",
    "executable_path = {'executable_path': ChromeDriverManager().install()}\n",
    "browser = Browser('chrome', **executable_path, headless=False)"
   ]
  },
  {
   "cell_type": "code",
   "execution_count": 179,
   "metadata": {},
   "outputs": [],
   "source": [
    "# Website path\n",
    "url = 'https://data-class-mars-challenge.s3.amazonaws.com/Mars/index.html'\n",
    "browser.visit(url)"
   ]
  },
  {
   "cell_type": "code",
   "execution_count": 191,
   "metadata": {},
   "outputs": [],
   "source": [
    "# Create Beautiful Soup object\n",
    "html = browser.html\n",
    "soup = bs(html, 'html.parser')"
   ]
  },
  {
   "cell_type": "code",
   "execution_count": 192,
   "metadata": {},
   "outputs": [],
   "source": [
    "# Scrape website for data rows\n",
    "results = soup.find_all('tr', class_='data-row')\n",
    "\n",
    "# Empty lists for each column of data\n",
    "id = []\n",
    "terrestrial_date = []\n",
    "sol = []\n",
    "ls =[]\n",
    "month = []\n",
    "min_temp = []\n",
    "pressure = []\n",
    "\n",
    "# Iterate through each data row appending lists with data\n",
    "column = 0\n",
    "for result in results:\n",
    "    row = result.find_all('td')\n",
    "    for cell in row:\n",
    "            column += 1\n",
    "            if column == 1:\n",
    "                id.append(cell.text)\n",
    "            elif column == 2:\n",
    "                terrestrial_date.append(cell.text)\n",
    "            elif column == 3:\n",
    "                sol.append(cell.text)\n",
    "            elif column == 4:\n",
    "                ls.append(cell.text)\n",
    "            elif column == 5:\n",
    "                month.append(cell.text)\n",
    "            elif column == 6:\n",
    "                min_temp.append(cell.text)\n",
    "            elif column == 7:\n",
    "                pressure.append(cell.text)            \n",
    "    column = 0"
   ]
  },
  {
   "cell_type": "code",
   "execution_count": 194,
   "metadata": {},
   "outputs": [
    {
     "data": {
      "text/html": [
       "<div>\n",
       "<style scoped>\n",
       "    .dataframe tbody tr th:only-of-type {\n",
       "        vertical-align: middle;\n",
       "    }\n",
       "\n",
       "    .dataframe tbody tr th {\n",
       "        vertical-align: top;\n",
       "    }\n",
       "\n",
       "    .dataframe thead th {\n",
       "        text-align: right;\n",
       "    }\n",
       "</style>\n",
       "<table border=\"1\" class=\"dataframe\">\n",
       "  <thead>\n",
       "    <tr style=\"text-align: right;\">\n",
       "      <th></th>\n",
       "      <th>id</th>\n",
       "      <th>terrestrial_date</th>\n",
       "      <th>sol</th>\n",
       "      <th>ls</th>\n",
       "      <th>month</th>\n",
       "      <th>min_temp</th>\n",
       "      <th>pressure</th>\n",
       "    </tr>\n",
       "  </thead>\n",
       "  <tbody>\n",
       "    <tr>\n",
       "      <th>0</th>\n",
       "      <td>2</td>\n",
       "      <td>2012-08-16</td>\n",
       "      <td>10</td>\n",
       "      <td>155</td>\n",
       "      <td>6</td>\n",
       "      <td>-75.0</td>\n",
       "      <td>739.0</td>\n",
       "    </tr>\n",
       "    <tr>\n",
       "      <th>1</th>\n",
       "      <td>13</td>\n",
       "      <td>2012-08-17</td>\n",
       "      <td>11</td>\n",
       "      <td>156</td>\n",
       "      <td>6</td>\n",
       "      <td>-76.0</td>\n",
       "      <td>740.0</td>\n",
       "    </tr>\n",
       "    <tr>\n",
       "      <th>2</th>\n",
       "      <td>24</td>\n",
       "      <td>2012-08-18</td>\n",
       "      <td>12</td>\n",
       "      <td>156</td>\n",
       "      <td>6</td>\n",
       "      <td>-76.0</td>\n",
       "      <td>741.0</td>\n",
       "    </tr>\n",
       "    <tr>\n",
       "      <th>3</th>\n",
       "      <td>35</td>\n",
       "      <td>2012-08-19</td>\n",
       "      <td>13</td>\n",
       "      <td>157</td>\n",
       "      <td>6</td>\n",
       "      <td>-74.0</td>\n",
       "      <td>732.0</td>\n",
       "    </tr>\n",
       "    <tr>\n",
       "      <th>4</th>\n",
       "      <td>46</td>\n",
       "      <td>2012-08-20</td>\n",
       "      <td>14</td>\n",
       "      <td>157</td>\n",
       "      <td>6</td>\n",
       "      <td>-74.0</td>\n",
       "      <td>740.0</td>\n",
       "    </tr>\n",
       "    <tr>\n",
       "      <th>...</th>\n",
       "      <td>...</td>\n",
       "      <td>...</td>\n",
       "      <td>...</td>\n",
       "      <td>...</td>\n",
       "      <td>...</td>\n",
       "      <td>...</td>\n",
       "      <td>...</td>\n",
       "    </tr>\n",
       "    <tr>\n",
       "      <th>1862</th>\n",
       "      <td>1889</td>\n",
       "      <td>2018-02-23</td>\n",
       "      <td>1973</td>\n",
       "      <td>133</td>\n",
       "      <td>5</td>\n",
       "      <td>-78.0</td>\n",
       "      <td>730.0</td>\n",
       "    </tr>\n",
       "    <tr>\n",
       "      <th>1863</th>\n",
       "      <td>1892</td>\n",
       "      <td>2018-02-24</td>\n",
       "      <td>1974</td>\n",
       "      <td>134</td>\n",
       "      <td>5</td>\n",
       "      <td>-77.0</td>\n",
       "      <td>729.0</td>\n",
       "    </tr>\n",
       "    <tr>\n",
       "      <th>1864</th>\n",
       "      <td>1894</td>\n",
       "      <td>2018-02-25</td>\n",
       "      <td>1975</td>\n",
       "      <td>134</td>\n",
       "      <td>5</td>\n",
       "      <td>-76.0</td>\n",
       "      <td>729.0</td>\n",
       "    </tr>\n",
       "    <tr>\n",
       "      <th>1865</th>\n",
       "      <td>1893</td>\n",
       "      <td>2018-02-26</td>\n",
       "      <td>1976</td>\n",
       "      <td>135</td>\n",
       "      <td>5</td>\n",
       "      <td>-77.0</td>\n",
       "      <td>728.0</td>\n",
       "    </tr>\n",
       "    <tr>\n",
       "      <th>1866</th>\n",
       "      <td>1895</td>\n",
       "      <td>2018-02-27</td>\n",
       "      <td>1977</td>\n",
       "      <td>135</td>\n",
       "      <td>5</td>\n",
       "      <td>-77.0</td>\n",
       "      <td>727.0</td>\n",
       "    </tr>\n",
       "  </tbody>\n",
       "</table>\n",
       "<p>1867 rows × 7 columns</p>\n",
       "</div>"
      ],
      "text/plain": [
       "        id terrestrial_date   sol   ls month min_temp pressure\n",
       "0        2       2012-08-16    10  155     6    -75.0    739.0\n",
       "1       13       2012-08-17    11  156     6    -76.0    740.0\n",
       "2       24       2012-08-18    12  156     6    -76.0    741.0\n",
       "3       35       2012-08-19    13  157     6    -74.0    732.0\n",
       "4       46       2012-08-20    14  157     6    -74.0    740.0\n",
       "...    ...              ...   ...  ...   ...      ...      ...\n",
       "1862  1889       2018-02-23  1973  133     5    -78.0    730.0\n",
       "1863  1892       2018-02-24  1974  134     5    -77.0    729.0\n",
       "1864  1894       2018-02-25  1975  134     5    -76.0    729.0\n",
       "1865  1893       2018-02-26  1976  135     5    -77.0    728.0\n",
       "1866  1895       2018-02-27  1977  135     5    -77.0    727.0\n",
       "\n",
       "[1867 rows x 7 columns]"
      ]
     },
     "execution_count": 194,
     "metadata": {},
     "output_type": "execute_result"
    }
   ],
   "source": [
    "# Create Dataframe from lists\n",
    "mars_df = pd.DataFrame({\"id\": id,\n",
    "                        \"terrestrial_date\": terrestrial_date,\n",
    "                        \"sol\": sol,\n",
    "                        \"ls\": ls,\n",
    "                        \"month\": month,\n",
    "                        \"min_temp\": min_temp,\n",
    "                        \"pressure\": pressure})\n",
    "mars_df"
   ]
  },
  {
   "cell_type": "code",
   "execution_count": 237,
   "metadata": {},
   "outputs": [
    {
     "name": "stdout",
     "output_type": "stream",
     "text": [
      "<class 'pandas.core.frame.DataFrame'>\n",
      "RangeIndex: 1867 entries, 0 to 1866\n",
      "Data columns (total 7 columns):\n",
      " #   Column            Non-Null Count  Dtype         \n",
      "---  ------            --------------  -----         \n",
      " 0   id                1867 non-null   int64         \n",
      " 1   terrestrial_date  1867 non-null   datetime64[ns]\n",
      " 2   sol               1867 non-null   int64         \n",
      " 3   ls                1867 non-null   int64         \n",
      " 4   month             1867 non-null   int64         \n",
      " 5   min_temp          1867 non-null   float64       \n",
      " 6   pressure          1867 non-null   float64       \n",
      "dtypes: datetime64[ns](1), float64(2), int64(4)\n",
      "memory usage: 102.2 KB\n"
     ]
    }
   ],
   "source": [
    "# Assign datatypes to dataframe columns\n",
    "mars_df = mars_df.astype({'id': 'int64',\n",
    "                            'sol': 'int64',\n",
    "                            'ls': 'int64',\n",
    "                            'month': 'int64',\n",
    "                            'min_temp': 'float64',\n",
    "                            'pressure': 'float64'\n",
    "                            })\n",
    "mars_df.terrestrial_date = pd.to_datetime(mars_df.terrestrial_date)\n",
    "mars_df.info()"
   ]
  },
  {
   "cell_type": "code",
   "execution_count": 196,
   "metadata": {},
   "outputs": [
    {
     "name": "stdout",
     "output_type": "stream",
     "text": [
      "There are 12 months on Mars\n"
     ]
    }
   ],
   "source": [
    "# Number of months on Mars\n",
    "num_months = len(mars_df.month.unique())\n",
    "print(f\"There are {num_months} months on Mars\")"
   ]
  },
  {
   "cell_type": "code",
   "execution_count": 197,
   "metadata": {},
   "outputs": [
    {
     "name": "stdout",
     "output_type": "stream",
     "text": [
      "Data was collected on 1867 separate Martian days\n"
     ]
    }
   ],
   "source": [
    "# Number of Martian days worth of data\n",
    "num_data_days = len(mars_df.sol.unique())\n",
    "print(f\"Data was collected on {num_data_days} separate Martian days\")"
   ]
  },
  {
   "cell_type": "code",
   "execution_count": 198,
   "metadata": {},
   "outputs": [
    {
     "name": "stdout",
     "output_type": "stream",
     "text": [
      "The coldest month on Mars at the Curiosity location is month 3,\n",
      "     with an average temperature of -83.307 degrees Celsius\n",
      "The warmest month on Mars at the Curiosity location is month 8, \n",
      "     with an average temperature of -68.383 degrees Celsius\n"
     ]
    }
   ],
   "source": [
    "# By average, Coldest and Warmest months on Mars (at Curiosity location)\n",
    "avg_min_temp = mars_df.groupby('month').mean().min_temp\n",
    "month_min = [month for month, temp in enumerate(avg_min_temp) if temp == avg_min_temp.min()][0]+1\n",
    "month_max = [month for month, temp in enumerate(avg_min_temp) if temp == avg_min_temp.max()][0]+1\n",
    "\n",
    "print(f\"The coldest month on Mars at the Curiosity location is month {month_min},\\n     with an average temperature of {round(avg_min_temp[month_min],3)} degrees Celsius\")\n",
    "print(f\"The warmest month on Mars at the Curiosity location is month {month_max}, \\n     with an average temperature of {round(avg_min_temp[month_max],3)} degrees Celsius\")"
   ]
  },
  {
   "cell_type": "code",
   "execution_count": 199,
   "metadata": {},
   "outputs": [
    {
     "data": {
      "image/png": "[encoded data removed]",
      "text/plain": [
       "<Figure size 432x288 with 1 Axes>"
      ]
     },
     "metadata": {
      "needs_background": "light"
     },
     "output_type": "display_data"
    }
   ],
   "source": [
    "# Graph monthly temperatures with Matplotlib\n",
    "x_axis = np.arange(len(avg_min_temp))+1\n",
    "\n",
    "plt.bar(x_axis, avg_min_temp)\n",
    "plt.xticks(x_axis)\n",
    "\n",
    "plt.title(\"Average Minimum Temperature by Month\")\n",
    "plt.xlabel(\"Month\")\n",
    "plt.ylabel(\"Average Temperature (Degrees Celsius)\")\n",
    "\n",
    "plt.ylim(min(avg_min_temp)-3,max(avg_min_temp)+6)\n",
    "\n",
    "plt.tight_layout()\n",
    "plt.show()"
   ]
  },
  {
   "cell_type": "code",
   "execution_count": 200,
   "metadata": {},
   "outputs": [
    {
     "name": "stdout",
     "output_type": "stream",
     "text": [
      "The month on Mars with the lowest atmospheric pressure at the Curiosity location is month 6,\n",
      "     with an average atmospheric pressure of 745.054 pascals\n",
      "The month on Mars with the highest atmospheric pressure at the Curiosity location is month 9, \n",
      "     with an average atmospheric pressure of 913.306 pascals\n"
     ]
    }
   ],
   "source": [
    "# By average, months with lowest and highest atmospheric pressure on Mars (at Curiosity location)\n",
    "avg_pressure = mars_df.groupby('month').mean().pressure\n",
    "month_min = [month for month, pressure in enumerate(avg_pressure) if pressure == avg_pressure.min()][0]+1\n",
    "month_max = [month for month, pressure in enumerate(avg_pressure) if pressure == avg_pressure.max()][0]+1\n",
    "\n",
    "print(f\"The month on Mars with the lowest atmospheric pressure at the Curiosity location is month {month_min},\\n     with an average atmospheric pressure of {round(avg_pressure[month_min],3)} pascals\")\n",
    "print(f\"The month on Mars with the highest atmospheric pressure at the Curiosity location is month {month_max}, \\n     with an average atmospheric pressure of {round(avg_pressure[month_max],3)} pascals\")"
   ]
  },
  {
   "cell_type": "code",
   "execution_count": 201,
   "metadata": {},
   "outputs": [
    {
     "data": {
      "image/png": "[encoded data removed]",
      "text/plain": [
       "<Figure size 432x288 with 1 Axes>"
      ]
     },
     "metadata": {
      "needs_background": "light"
     },
     "output_type": "display_data"
    }
   ],
   "source": [
    "# Graph monthly atmospheric pressure with Matplotlib\n",
    "x_axis = np.arange(len(avg_pressure))+1\n",
    "\n",
    "plt.bar(x_axis, avg_pressure)\n",
    "plt.xticks(x_axis)\n",
    "\n",
    "plt.title(\"Average Atmospheric Pressure by Month\")\n",
    "plt.xlabel(\"Month\")\n",
    "plt.ylabel(\"Average Pressure (Pascals)\")\n",
    "\n",
    "plt.ylim(min(avg_pressure)-100,max(avg_pressure)+30)\n",
    "\n",
    "plt.tight_layout()\n",
    "plt.show()"
   ]
  },
  {
   "cell_type": "code",
   "execution_count": 223,
   "metadata": {},
   "outputs": [
    {
     "data": {
      "text/plain": [
       "[Timestamp('2013-08-01 00:00:00'),\n",
       " Timestamp('2015-06-19 00:00:00'),\n",
       " Timestamp('2017-05-06 00:00:00')]"
      ]
     },
     "execution_count": 223,
     "metadata": {},
     "output_type": "execute_result"
    }
   ],
   "source": [
    "# How many earth days in a Martian year\n",
    "# List of terrestrial dates for the first day of each Martian month 1\n",
    "first_day_year = []\n",
    "\n",
    "mars_yr_df = mars_df[['terrestrial_date','month']]\n",
    "\n",
    "for i, j in mars_yr_df.T.iteritems():\n",
    "    if mars_yr_df.iloc[i, 1] != mars_yr_df.iloc[i-1, 1] and mars_yr_df.iloc[i, 1] == 1 :\n",
    "        first_day_year.append(mars_yr_df.iloc[i, 0])\n",
    "\n",
    "first_day_year"
   ]
  },
  {
   "cell_type": "code",
   "execution_count": 244,
   "metadata": {},
   "outputs": [
    {
     "name": "stdout",
     "output_type": "stream",
     "text": [
      "Dataset covers 2 complete Martian years\n",
      "The first complete Martian year started on 2013-08-01\n",
      "The final complete Martian year ended on 2017-05-06\n"
     ]
    }
   ],
   "source": [
    "# Calculate number of complete Martian years in the dataset, and the start / end dates\n",
    "mars_yrs = len(first_day_year)-1\n",
    "start_terra_dt = first_day_year[0]\n",
    "end_terra_dt = first_day_year[mars_yrs]\n",
    "\n",
    "print(f\"Dataset covers {mars_yrs} complete Martian years\")\n",
    "print(f\"The first complete Martian year started on {start_terra_dt.date()}\")\n",
    "print(f\"The final complete Martian year ended on {end_terra_dt.date()}\")"
   ]
  },
  {
   "cell_type": "code",
   "execution_count": 248,
   "metadata": {},
   "outputs": [
    {
     "name": "stdout",
     "output_type": "stream",
     "text": [
      "There are approximately 687 Earth days in a Martian year\n"
     ]
    }
   ],
   "source": [
    "# Calculate total number of Earth days passed (that equate to total number of Martian years passed)\n",
    "earth_days = end_terra_dt - start_terra_dt\n",
    "\n",
    "# Calculate approximate number of Earth days in a Martian year\n",
    "days_in_mars_yr = earth_days / mars_yrs\n",
    "print(f\"There are approximately {days_in_mars_yr.days} Earth days in a Martian year\")"
   ]
  },
  {
   "cell_type": "code",
   "execution_count": 281,
   "metadata": {},
   "outputs": [
    {
     "data": {
      "image/png": "[encoded data removed]",
      "text/plain": [
       "<Figure size 432x288 with 1 Axes>"
      ]
     },
     "metadata": {
      "needs_background": "light"
     },
     "output_type": "display_data"
    }
   ],
   "source": [
    "# Plot daily minimum temperature with visuals aligning Earth dates and Martian years\n",
    "\n",
    "plt.plot(mars_df.terrestrial_date, mars_df.min_temp)\n",
    "\n",
    "plt.title(\"Daily Minimum Temperature\")\n",
    "plt.xlabel(\"Date\")\n",
    "plt.ylabel(\"Temperature (Degrees Celsius)\")\n",
    "\n",
    "plt.ylim(min(avg_min_temp)-10,max(avg_min_temp)+10)\n",
    "\n",
    "for y in range(0,mars_yrs+1):\n",
    "    plt.vlines(first_day_year[y], min(avg_min_temp)-10, max(avg_min_temp)+10, alpha=0.8, linestyle=\"dashed\", color=\"r\")\n",
    "\n",
    "plt.hlines(-92,first_day_year[0],first_day_year[1], alpha=0.6, linestyle=\"dotted\", color=\"r\")\n",
    "plt.annotate('   1 Martian Year', [first_day_year[0].date(),-91], fontsize=12, color=\"red\", alpha=0.6)\n",
    "\n",
    "plt.tight_layout()\n",
    "plt.show()"
   ]
  },
  {
   "cell_type": "code",
   "execution_count": 282,
   "metadata": {},
   "outputs": [],
   "source": [
    "# Export dataframe to CSV\n",
    "mars_df.to_csv('output/mars_data.csv', index=False)"
   ]
  }
 ],
 "metadata": {
  "kernelspec": {
   "display_name": "Python 3.7.7 ('PythonData')",
   "language": "python",
   "name": "python3"
  },
  "language_info": {
   "codemirror_mode": {
    "name": "ipython",
    "version": 3
   },
   "file_extension": ".py",
   "mimetype": "text/x-python",
   "name": "python",
   "nbconvert_exporter": "python",
   "pygments_lexer": "ipython3",
   "version": "3.7.7"
  },
  "orig_nbformat": 4,
  "vscode": {
   "interpreter": {
    "hash": "5ab4271f17fb678f92d8863922ba38472c07151a138a8513aae8a62841bcc2ec"
   }
  }
 },
 "nbformat": 4,
 "nbformat_minor": 2
}
